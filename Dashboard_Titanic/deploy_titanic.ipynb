{
 "metadata": {
  "language_info": {
   "codemirror_mode": {
    "name": "ipython",
    "version": 3
   },
   "file_extension": ".py",
   "mimetype": "text/x-python",
   "name": "python",
   "nbconvert_exporter": "python",
   "pygments_lexer": "ipython3",
   "version": "3.7.6-final"
  },
  "orig_nbformat": 2,
  "kernelspec": {
   "name": "python3",
   "display_name": "Python 3",
   "language": "python"
  }
 },
 "nbformat": 4,
 "nbformat_minor": 2,
 "cells": [
  {
   "source": [
    "# DEPLOYMENT TITANIC.CSV"
   ],
   "cell_type": "markdown",
   "metadata": {}
  },
  {
   "cell_type": "code",
   "execution_count": 252,
   "metadata": {},
   "outputs": [],
   "source": [
    "# Basic Operations\n",
    "import pandas as pd\n",
    "import numpy as np\n",
    "\n",
    "# ML Models\n",
    "from sklearn.linear_model import LogisticRegression\n",
    "\n",
    "# Feature Engineering\n",
    "from sklearn.pipeline import Pipeline\n",
    "from sklearn.compose import ColumnTransformer\n",
    "from sklearn.preprocessing import OneHotEncoder, PolynomialFeatures, StandardScaler\n",
    "import category_encoders as ce # untuk ordinal dan binary encoder\n",
    "from sklearn.impute import SimpleImputer\n",
    "\n",
    "# Evaluation\n",
    "from sklearn.model_selection import GridSearchCV\n",
    "from sklearn.model_selection import train_test_split, cross_val_score, StratifiedKFold\n",
    "from sklearn.metrics import f1_score\n",
    "\n",
    "# Model\n",
    "import pickle\n",
    "import joblib"
   ]
  },
  {
   "cell_type": "code",
   "execution_count": 253,
   "metadata": {},
   "outputs": [
    {
     "output_type": "execute_result",
     "data": {
      "text/plain": [
       "        sex   age  parch     fare   class deck  embark_town alive  alone\n",
       "0      male  22.0      0   7.2500   Third  NaN  Southampton    no  False\n",
       "1    female  38.0      0  71.2833   First    C    Cherbourg   yes  False\n",
       "2    female  26.0      0   7.9250   Third  NaN  Southampton   yes   True\n",
       "3    female  35.0      0  53.1000   First    C  Southampton   yes  False\n",
       "4      male  35.0      0   8.0500   Third  NaN  Southampton    no   True\n",
       "..      ...   ...    ...      ...     ...  ...          ...   ...    ...\n",
       "886    male  27.0      0  13.0000  Second  NaN  Southampton    no   True\n",
       "887  female  19.0      0  30.0000   First    B  Southampton   yes   True\n",
       "888  female   NaN      2  23.4500   Third  NaN  Southampton    no  False\n",
       "889    male  26.0      0  30.0000   First    C    Cherbourg   yes   True\n",
       "890    male  32.0      0   7.7500   Third  NaN   Queenstown    no   True\n",
       "\n",
       "[891 rows x 9 columns]"
      ],
      "text/html": "<div>\n<style scoped>\n    .dataframe tbody tr th:only-of-type {\n        vertical-align: middle;\n    }\n\n    .dataframe tbody tr th {\n        vertical-align: top;\n    }\n\n    .dataframe thead th {\n        text-align: right;\n    }\n</style>\n<table border=\"1\" class=\"dataframe\">\n  <thead>\n    <tr style=\"text-align: right;\">\n      <th></th>\n      <th>sex</th>\n      <th>age</th>\n      <th>parch</th>\n      <th>fare</th>\n      <th>class</th>\n      <th>deck</th>\n      <th>embark_town</th>\n      <th>alive</th>\n      <th>alone</th>\n    </tr>\n  </thead>\n  <tbody>\n    <tr>\n      <th>0</th>\n      <td>male</td>\n      <td>22.0</td>\n      <td>0</td>\n      <td>7.2500</td>\n      <td>Third</td>\n      <td>NaN</td>\n      <td>Southampton</td>\n      <td>no</td>\n      <td>False</td>\n    </tr>\n    <tr>\n      <th>1</th>\n      <td>female</td>\n      <td>38.0</td>\n      <td>0</td>\n      <td>71.2833</td>\n      <td>First</td>\n      <td>C</td>\n      <td>Cherbourg</td>\n      <td>yes</td>\n      <td>False</td>\n    </tr>\n    <tr>\n      <th>2</th>\n      <td>female</td>\n      <td>26.0</td>\n      <td>0</td>\n      <td>7.9250</td>\n      <td>Third</td>\n      <td>NaN</td>\n      <td>Southampton</td>\n      <td>yes</td>\n      <td>True</td>\n    </tr>\n    <tr>\n      <th>3</th>\n      <td>female</td>\n      <td>35.0</td>\n      <td>0</td>\n      <td>53.1000</td>\n      <td>First</td>\n      <td>C</td>\n      <td>Southampton</td>\n      <td>yes</td>\n      <td>False</td>\n    </tr>\n    <tr>\n      <th>4</th>\n      <td>male</td>\n      <td>35.0</td>\n      <td>0</td>\n      <td>8.0500</td>\n      <td>Third</td>\n      <td>NaN</td>\n      <td>Southampton</td>\n      <td>no</td>\n      <td>True</td>\n    </tr>\n    <tr>\n      <th>...</th>\n      <td>...</td>\n      <td>...</td>\n      <td>...</td>\n      <td>...</td>\n      <td>...</td>\n      <td>...</td>\n      <td>...</td>\n      <td>...</td>\n      <td>...</td>\n    </tr>\n    <tr>\n      <th>886</th>\n      <td>male</td>\n      <td>27.0</td>\n      <td>0</td>\n      <td>13.0000</td>\n      <td>Second</td>\n      <td>NaN</td>\n      <td>Southampton</td>\n      <td>no</td>\n      <td>True</td>\n    </tr>\n    <tr>\n      <th>887</th>\n      <td>female</td>\n      <td>19.0</td>\n      <td>0</td>\n      <td>30.0000</td>\n      <td>First</td>\n      <td>B</td>\n      <td>Southampton</td>\n      <td>yes</td>\n      <td>True</td>\n    </tr>\n    <tr>\n      <th>888</th>\n      <td>female</td>\n      <td>NaN</td>\n      <td>2</td>\n      <td>23.4500</td>\n      <td>Third</td>\n      <td>NaN</td>\n      <td>Southampton</td>\n      <td>no</td>\n      <td>False</td>\n    </tr>\n    <tr>\n      <th>889</th>\n      <td>male</td>\n      <td>26.0</td>\n      <td>0</td>\n      <td>30.0000</td>\n      <td>First</td>\n      <td>C</td>\n      <td>Cherbourg</td>\n      <td>yes</td>\n      <td>True</td>\n    </tr>\n    <tr>\n      <th>890</th>\n      <td>male</td>\n      <td>32.0</td>\n      <td>0</td>\n      <td>7.7500</td>\n      <td>Third</td>\n      <td>NaN</td>\n      <td>Queenstown</td>\n      <td>no</td>\n      <td>True</td>\n    </tr>\n  </tbody>\n</table>\n<p>891 rows × 9 columns</p>\n</div>"
     },
     "metadata": {},
     "execution_count": 253
    }
   ],
   "source": [
    "# load dataset\n",
    "df = pd.read_csv('titanic.csv')\n",
    "df"
   ]
  },
  {
   "source": [
    "# 1. Preprocessing"
   ],
   "cell_type": "markdown",
   "metadata": {}
  },
  {
   "cell_type": "code",
   "execution_count": 254,
   "metadata": {},
   "outputs": [],
   "source": [
    "# drop column 'deck' karena missing value terlalu banyak\n",
    "df = df.drop(columns='deck')"
   ]
  },
  {
   "cell_type": "code",
   "execution_count": 255,
   "metadata": {},
   "outputs": [
    {
     "output_type": "execute_result",
     "data": {
      "text/plain": [
       "      sex   age  parch     fare  class  embark_town  alone  label\n",
       "0    male  22.0      0   7.2500  Third  Southampton  False      0\n",
       "1  female  38.0      0  71.2833  First    Cherbourg  False      1\n",
       "2  female  26.0      0   7.9250  Third  Southampton   True      1"
      ],
      "text/html": "<div>\n<style scoped>\n    .dataframe tbody tr th:only-of-type {\n        vertical-align: middle;\n    }\n\n    .dataframe tbody tr th {\n        vertical-align: top;\n    }\n\n    .dataframe thead th {\n        text-align: right;\n    }\n</style>\n<table border=\"1\" class=\"dataframe\">\n  <thead>\n    <tr style=\"text-align: right;\">\n      <th></th>\n      <th>sex</th>\n      <th>age</th>\n      <th>parch</th>\n      <th>fare</th>\n      <th>class</th>\n      <th>embark_town</th>\n      <th>alone</th>\n      <th>label</th>\n    </tr>\n  </thead>\n  <tbody>\n    <tr>\n      <th>0</th>\n      <td>male</td>\n      <td>22.0</td>\n      <td>0</td>\n      <td>7.2500</td>\n      <td>Third</td>\n      <td>Southampton</td>\n      <td>False</td>\n      <td>0</td>\n    </tr>\n    <tr>\n      <th>1</th>\n      <td>female</td>\n      <td>38.0</td>\n      <td>0</td>\n      <td>71.2833</td>\n      <td>First</td>\n      <td>Cherbourg</td>\n      <td>False</td>\n      <td>1</td>\n    </tr>\n    <tr>\n      <th>2</th>\n      <td>female</td>\n      <td>26.0</td>\n      <td>0</td>\n      <td>7.9250</td>\n      <td>Third</td>\n      <td>Southampton</td>\n      <td>True</td>\n      <td>1</td>\n    </tr>\n  </tbody>\n</table>\n</div>"
     },
     "metadata": {},
     "execution_count": 255
    }
   ],
   "source": [
    "# ganti target ('alive') jadi 0-1 ('label)\n",
    "df['label'] = np.where(df['alive']=='yes', 1, 0)\n",
    "df['alone'] = df['alone'].astype(object)\n",
    "\n",
    "# drop column 'alive'\n",
    "df = df.drop(columns='alive')\n",
    "\n",
    "df.head(3)"
   ]
  },
  {
   "cell_type": "code",
   "execution_count": 256,
   "metadata": {},
   "outputs": [
    {
     "output_type": "stream",
     "name": "stdout",
     "text": [
      "<class 'pandas.core.frame.DataFrame'>\nRangeIndex: 891 entries, 0 to 890\nData columns (total 8 columns):\n #   Column       Non-Null Count  Dtype  \n---  ------       --------------  -----  \n 0   sex          891 non-null    object \n 1   age          714 non-null    float64\n 2   parch        891 non-null    int64  \n 3   fare         891 non-null    float64\n 4   class        891 non-null    object \n 5   embark_town  889 non-null    object \n 6   alone        891 non-null    object \n 7   label        891 non-null    int32  \ndtypes: float64(2), int32(1), int64(1), object(4)\nmemory usage: 52.3+ KB\n"
     ]
    }
   ],
   "source": [
    "df.info()"
   ]
  },
  {
   "cell_type": "code",
   "execution_count": 257,
   "metadata": {},
   "outputs": [],
   "source": [
    "# define X y\n",
    "X = df.drop(columns='label')\n",
    "y = df['label']"
   ]
  },
  {
   "cell_type": "code",
   "execution_count": 258,
   "metadata": {},
   "outputs": [],
   "source": [
    "# train test split\n",
    "X_train, X_test, y_train, y_test = train_test_split(\n",
    "    X,\n",
    "    y,\n",
    "    stratify=y,\n",
    "    test_size=0.2,\n",
    "    random_state=2020\n",
    ")"
   ]
  },
  {
   "cell_type": "code",
   "execution_count": 259,
   "metadata": {},
   "outputs": [
    {
     "output_type": "stream",
     "name": "stdout",
     "text": [
      "<class 'pandas.core.frame.DataFrame'>\nInt64Index: 712 entries, 317 to 792\nData columns (total 7 columns):\n #   Column       Non-Null Count  Dtype  \n---  ------       --------------  -----  \n 0   sex          712 non-null    object \n 1   age          569 non-null    float64\n 2   parch        712 non-null    int64  \n 3   fare         712 non-null    float64\n 4   class        712 non-null    object \n 5   embark_town  710 non-null    object \n 6   alone        712 non-null    object \ndtypes: float64(2), int64(1), object(4)\nmemory usage: 44.5+ KB\n"
     ]
    }
   ],
   "source": [
    "X_train.info()"
   ]
  },
  {
   "cell_type": "code",
   "execution_count": 260,
   "metadata": {},
   "outputs": [
    {
     "output_type": "execute_result",
     "data": {
      "text/plain": [
       "        sex   age  parch     fare   class  embark_town  alone  label\n",
       "317    male  54.0      0  14.0000  Second  Southampton   True      0\n",
       "80     male  22.0      0   9.0000   Third  Southampton   True      0\n",
       "510    male  29.0      0   7.7500   Third   Queenstown   True      1\n",
       "298    male   NaN      0  30.5000   First  Southampton   True      1\n",
       "188    male  40.0      1  15.5000   Third   Queenstown  False      0\n",
       "..      ...   ...    ...      ...     ...          ...    ...    ...\n",
       "572    male  36.0      0  26.3875   First  Southampton   True      1\n",
       "284    male   NaN      0  26.0000   First  Southampton   True      0\n",
       "224    male  38.0      0  90.0000   First  Southampton  False      1\n",
       "406    male  51.0      0   7.7500   Third  Southampton   True      0\n",
       "792  female   NaN      2  69.5500   Third  Southampton  False      0\n",
       "\n",
       "[712 rows x 8 columns]"
      ],
      "text/html": "<div>\n<style scoped>\n    .dataframe tbody tr th:only-of-type {\n        vertical-align: middle;\n    }\n\n    .dataframe tbody tr th {\n        vertical-align: top;\n    }\n\n    .dataframe thead th {\n        text-align: right;\n    }\n</style>\n<table border=\"1\" class=\"dataframe\">\n  <thead>\n    <tr style=\"text-align: right;\">\n      <th></th>\n      <th>sex</th>\n      <th>age</th>\n      <th>parch</th>\n      <th>fare</th>\n      <th>class</th>\n      <th>embark_town</th>\n      <th>alone</th>\n      <th>label</th>\n    </tr>\n  </thead>\n  <tbody>\n    <tr>\n      <th>317</th>\n      <td>male</td>\n      <td>54.0</td>\n      <td>0</td>\n      <td>14.0000</td>\n      <td>Second</td>\n      <td>Southampton</td>\n      <td>True</td>\n      <td>0</td>\n    </tr>\n    <tr>\n      <th>80</th>\n      <td>male</td>\n      <td>22.0</td>\n      <td>0</td>\n      <td>9.0000</td>\n      <td>Third</td>\n      <td>Southampton</td>\n      <td>True</td>\n      <td>0</td>\n    </tr>\n    <tr>\n      <th>510</th>\n      <td>male</td>\n      <td>29.0</td>\n      <td>0</td>\n      <td>7.7500</td>\n      <td>Third</td>\n      <td>Queenstown</td>\n      <td>True</td>\n      <td>1</td>\n    </tr>\n    <tr>\n      <th>298</th>\n      <td>male</td>\n      <td>NaN</td>\n      <td>0</td>\n      <td>30.5000</td>\n      <td>First</td>\n      <td>Southampton</td>\n      <td>True</td>\n      <td>1</td>\n    </tr>\n    <tr>\n      <th>188</th>\n      <td>male</td>\n      <td>40.0</td>\n      <td>1</td>\n      <td>15.5000</td>\n      <td>Third</td>\n      <td>Queenstown</td>\n      <td>False</td>\n      <td>0</td>\n    </tr>\n    <tr>\n      <th>...</th>\n      <td>...</td>\n      <td>...</td>\n      <td>...</td>\n      <td>...</td>\n      <td>...</td>\n      <td>...</td>\n      <td>...</td>\n      <td>...</td>\n    </tr>\n    <tr>\n      <th>572</th>\n      <td>male</td>\n      <td>36.0</td>\n      <td>0</td>\n      <td>26.3875</td>\n      <td>First</td>\n      <td>Southampton</td>\n      <td>True</td>\n      <td>1</td>\n    </tr>\n    <tr>\n      <th>284</th>\n      <td>male</td>\n      <td>NaN</td>\n      <td>0</td>\n      <td>26.0000</td>\n      <td>First</td>\n      <td>Southampton</td>\n      <td>True</td>\n      <td>0</td>\n    </tr>\n    <tr>\n      <th>224</th>\n      <td>male</td>\n      <td>38.0</td>\n      <td>0</td>\n      <td>90.0000</td>\n      <td>First</td>\n      <td>Southampton</td>\n      <td>False</td>\n      <td>1</td>\n    </tr>\n    <tr>\n      <th>406</th>\n      <td>male</td>\n      <td>51.0</td>\n      <td>0</td>\n      <td>7.7500</td>\n      <td>Third</td>\n      <td>Southampton</td>\n      <td>True</td>\n      <td>0</td>\n    </tr>\n    <tr>\n      <th>792</th>\n      <td>female</td>\n      <td>NaN</td>\n      <td>2</td>\n      <td>69.5500</td>\n      <td>Third</td>\n      <td>Southampton</td>\n      <td>False</td>\n      <td>0</td>\n    </tr>\n  </tbody>\n</table>\n<p>712 rows × 8 columns</p>\n</div>"
     },
     "metadata": {},
     "execution_count": 260
    }
   ],
   "source": [
    "# buat dataframe baru berisi X_train\n",
    "titanic_train = X_train\n",
    "\n",
    "# tambah column label dari y_train\n",
    "titanic_train['label'] = y_train\n",
    "\n",
    "# ubah  data type alone jadi string\n",
    "titanic_train['alone'] = titanic_train['alone'].astype(str)\n",
    "\n",
    "titanic_train"
   ]
  },
  {
   "cell_type": "code",
   "execution_count": 214,
   "metadata": {},
   "outputs": [
    {
     "output_type": "execute_result",
     "data": {
      "text/plain": [
       "        sex   age  parch     fare   class  embark_town  alone  label\n",
       "317    male  54.0      0  14.0000  Second  Southampton   True      0\n",
       "80     male  22.0      0   9.0000   Third  Southampton   True      0\n",
       "510    male  29.0      0   7.7500   Third   Queenstown   True      1\n",
       "298    male   NaN      0  30.5000   First  Southampton   True      1\n",
       "188    male  40.0      1  15.5000   Third   Queenstown  False      0\n",
       "..      ...   ...    ...      ...     ...          ...    ...    ...\n",
       "572    male  36.0      0  26.3875   First  Southampton   True      1\n",
       "284    male   NaN      0  26.0000   First  Southampton   True      0\n",
       "224    male  38.0      0  90.0000   First  Southampton  False      1\n",
       "406    male  51.0      0   7.7500   Third  Southampton   True      0\n",
       "792  female   NaN      2  69.5500   Third  Southampton  False      0\n",
       "\n",
       "[712 rows x 8 columns]"
      ],
      "text/html": "<div>\n<style scoped>\n    .dataframe tbody tr th:only-of-type {\n        vertical-align: middle;\n    }\n\n    .dataframe tbody tr th {\n        vertical-align: top;\n    }\n\n    .dataframe thead th {\n        text-align: right;\n    }\n</style>\n<table border=\"1\" class=\"dataframe\">\n  <thead>\n    <tr style=\"text-align: right;\">\n      <th></th>\n      <th>sex</th>\n      <th>age</th>\n      <th>parch</th>\n      <th>fare</th>\n      <th>class</th>\n      <th>embark_town</th>\n      <th>alone</th>\n      <th>label</th>\n    </tr>\n  </thead>\n  <tbody>\n    <tr>\n      <th>317</th>\n      <td>male</td>\n      <td>54.0</td>\n      <td>0</td>\n      <td>14.0000</td>\n      <td>Second</td>\n      <td>Southampton</td>\n      <td>True</td>\n      <td>0</td>\n    </tr>\n    <tr>\n      <th>80</th>\n      <td>male</td>\n      <td>22.0</td>\n      <td>0</td>\n      <td>9.0000</td>\n      <td>Third</td>\n      <td>Southampton</td>\n      <td>True</td>\n      <td>0</td>\n    </tr>\n    <tr>\n      <th>510</th>\n      <td>male</td>\n      <td>29.0</td>\n      <td>0</td>\n      <td>7.7500</td>\n      <td>Third</td>\n      <td>Queenstown</td>\n      <td>True</td>\n      <td>1</td>\n    </tr>\n    <tr>\n      <th>298</th>\n      <td>male</td>\n      <td>NaN</td>\n      <td>0</td>\n      <td>30.5000</td>\n      <td>First</td>\n      <td>Southampton</td>\n      <td>True</td>\n      <td>1</td>\n    </tr>\n    <tr>\n      <th>188</th>\n      <td>male</td>\n      <td>40.0</td>\n      <td>1</td>\n      <td>15.5000</td>\n      <td>Third</td>\n      <td>Queenstown</td>\n      <td>False</td>\n      <td>0</td>\n    </tr>\n    <tr>\n      <th>...</th>\n      <td>...</td>\n      <td>...</td>\n      <td>...</td>\n      <td>...</td>\n      <td>...</td>\n      <td>...</td>\n      <td>...</td>\n      <td>...</td>\n    </tr>\n    <tr>\n      <th>572</th>\n      <td>male</td>\n      <td>36.0</td>\n      <td>0</td>\n      <td>26.3875</td>\n      <td>First</td>\n      <td>Southampton</td>\n      <td>True</td>\n      <td>1</td>\n    </tr>\n    <tr>\n      <th>284</th>\n      <td>male</td>\n      <td>NaN</td>\n      <td>0</td>\n      <td>26.0000</td>\n      <td>First</td>\n      <td>Southampton</td>\n      <td>True</td>\n      <td>0</td>\n    </tr>\n    <tr>\n      <th>224</th>\n      <td>male</td>\n      <td>38.0</td>\n      <td>0</td>\n      <td>90.0000</td>\n      <td>First</td>\n      <td>Southampton</td>\n      <td>False</td>\n      <td>1</td>\n    </tr>\n    <tr>\n      <th>406</th>\n      <td>male</td>\n      <td>51.0</td>\n      <td>0</td>\n      <td>7.7500</td>\n      <td>Third</td>\n      <td>Southampton</td>\n      <td>True</td>\n      <td>0</td>\n    </tr>\n    <tr>\n      <th>792</th>\n      <td>female</td>\n      <td>NaN</td>\n      <td>2</td>\n      <td>69.5500</td>\n      <td>Third</td>\n      <td>Southampton</td>\n      <td>False</td>\n      <td>0</td>\n    </tr>\n  </tbody>\n</table>\n<p>712 rows × 8 columns</p>\n</div>"
     },
     "metadata": {},
     "execution_count": 214
    }
   ],
   "source": []
  },
  {
   "cell_type": "code",
   "execution_count": 261,
   "metadata": {},
   "outputs": [
    {
     "output_type": "execute_result",
     "data": {
      "text/plain": [
       "        sex   age  parch     fare   class  embark_town  alone  label\n",
       "560    male   NaN      0   7.7500   Third   Queenstown   True      0\n",
       "130    male  33.0      0   7.8958   Third    Cherbourg   True      0\n",
       "551    male  27.0      0  26.0000  Second  Southampton   True      0\n",
       "587    male  60.0      1  79.2000   First    Cherbourg  False      1\n",
       "2    female  26.0      0   7.9250   Third  Southampton   True      1\n",
       "..      ...   ...    ...      ...     ...          ...    ...    ...\n",
       "818    male  43.0      0   6.4500   Third  Southampton   True      0\n",
       "113  female  20.0      0   9.8250   Third  Southampton  False      0\n",
       "605    male  36.0      0  15.5500   Third  Southampton  False      0\n",
       "642  female   2.0      2  27.9000   Third  Southampton  False      0\n",
       "206    male  32.0      0  15.8500   Third  Southampton  False      0\n",
       "\n",
       "[179 rows x 8 columns]"
      ],
      "text/html": "<div>\n<style scoped>\n    .dataframe tbody tr th:only-of-type {\n        vertical-align: middle;\n    }\n\n    .dataframe tbody tr th {\n        vertical-align: top;\n    }\n\n    .dataframe thead th {\n        text-align: right;\n    }\n</style>\n<table border=\"1\" class=\"dataframe\">\n  <thead>\n    <tr style=\"text-align: right;\">\n      <th></th>\n      <th>sex</th>\n      <th>age</th>\n      <th>parch</th>\n      <th>fare</th>\n      <th>class</th>\n      <th>embark_town</th>\n      <th>alone</th>\n      <th>label</th>\n    </tr>\n  </thead>\n  <tbody>\n    <tr>\n      <th>560</th>\n      <td>male</td>\n      <td>NaN</td>\n      <td>0</td>\n      <td>7.7500</td>\n      <td>Third</td>\n      <td>Queenstown</td>\n      <td>True</td>\n      <td>0</td>\n    </tr>\n    <tr>\n      <th>130</th>\n      <td>male</td>\n      <td>33.0</td>\n      <td>0</td>\n      <td>7.8958</td>\n      <td>Third</td>\n      <td>Cherbourg</td>\n      <td>True</td>\n      <td>0</td>\n    </tr>\n    <tr>\n      <th>551</th>\n      <td>male</td>\n      <td>27.0</td>\n      <td>0</td>\n      <td>26.0000</td>\n      <td>Second</td>\n      <td>Southampton</td>\n      <td>True</td>\n      <td>0</td>\n    </tr>\n    <tr>\n      <th>587</th>\n      <td>male</td>\n      <td>60.0</td>\n      <td>1</td>\n      <td>79.2000</td>\n      <td>First</td>\n      <td>Cherbourg</td>\n      <td>False</td>\n      <td>1</td>\n    </tr>\n    <tr>\n      <th>2</th>\n      <td>female</td>\n      <td>26.0</td>\n      <td>0</td>\n      <td>7.9250</td>\n      <td>Third</td>\n      <td>Southampton</td>\n      <td>True</td>\n      <td>1</td>\n    </tr>\n    <tr>\n      <th>...</th>\n      <td>...</td>\n      <td>...</td>\n      <td>...</td>\n      <td>...</td>\n      <td>...</td>\n      <td>...</td>\n      <td>...</td>\n      <td>...</td>\n    </tr>\n    <tr>\n      <th>818</th>\n      <td>male</td>\n      <td>43.0</td>\n      <td>0</td>\n      <td>6.4500</td>\n      <td>Third</td>\n      <td>Southampton</td>\n      <td>True</td>\n      <td>0</td>\n    </tr>\n    <tr>\n      <th>113</th>\n      <td>female</td>\n      <td>20.0</td>\n      <td>0</td>\n      <td>9.8250</td>\n      <td>Third</td>\n      <td>Southampton</td>\n      <td>False</td>\n      <td>0</td>\n    </tr>\n    <tr>\n      <th>605</th>\n      <td>male</td>\n      <td>36.0</td>\n      <td>0</td>\n      <td>15.5500</td>\n      <td>Third</td>\n      <td>Southampton</td>\n      <td>False</td>\n      <td>0</td>\n    </tr>\n    <tr>\n      <th>642</th>\n      <td>female</td>\n      <td>2.0</td>\n      <td>2</td>\n      <td>27.9000</td>\n      <td>Third</td>\n      <td>Southampton</td>\n      <td>False</td>\n      <td>0</td>\n    </tr>\n    <tr>\n      <th>206</th>\n      <td>male</td>\n      <td>32.0</td>\n      <td>0</td>\n      <td>15.8500</td>\n      <td>Third</td>\n      <td>Southampton</td>\n      <td>False</td>\n      <td>0</td>\n    </tr>\n  </tbody>\n</table>\n<p>179 rows × 8 columns</p>\n</div>"
     },
     "metadata": {},
     "execution_count": 261
    }
   ],
   "source": [
    "# buat dataframe baru berisi X_test\n",
    "titanic_test = X_test\n",
    "\n",
    "# tambah column label dari y_test\n",
    "titanic_test['label'] = y_test\n",
    "\n",
    "# ubah  data type alone jadi string\n",
    "titanic_test['alone'] = titanic_test['alone'].astype(str)\n",
    "\n",
    "titanic_test"
   ]
  },
  {
   "cell_type": "code",
   "execution_count": 262,
   "metadata": {},
   "outputs": [
    {
     "output_type": "stream",
     "name": "stdout",
     "text": [
      "<class 'pandas.core.frame.DataFrame'>\nInt64Index: 712 entries, 317 to 792\nData columns (total 8 columns):\n #   Column       Non-Null Count  Dtype  \n---  ------       --------------  -----  \n 0   sex          712 non-null    object \n 1   age          569 non-null    float64\n 2   parch        712 non-null    int64  \n 3   fare         712 non-null    float64\n 4   class        712 non-null    object \n 5   embark_town  710 non-null    object \n 6   alone        712 non-null    object \n 7   label        712 non-null    int32  \ndtypes: float64(2), int32(1), int64(1), object(4)\nmemory usage: 47.3+ KB\n"
     ]
    }
   ],
   "source": [
    "titanic_train.info()"
   ]
  },
  {
   "cell_type": "code",
   "execution_count": 263,
   "metadata": {},
   "outputs": [
    {
     "output_type": "stream",
     "name": "stdout",
     "text": [
      "<class 'pandas.core.frame.DataFrame'>\nInt64Index: 179 entries, 560 to 206\nData columns (total 8 columns):\n #   Column       Non-Null Count  Dtype  \n---  ------       --------------  -----  \n 0   sex          179 non-null    object \n 1   age          145 non-null    float64\n 2   parch        179 non-null    int64  \n 3   fare         179 non-null    float64\n 4   class        179 non-null    object \n 5   embark_town  179 non-null    object \n 6   alone        179 non-null    object \n 7   label        179 non-null    int32  \ndtypes: float64(2), int32(1), int64(1), object(4)\nmemory usage: 11.9+ KB\n"
     ]
    }
   ],
   "source": [
    "titanic_test.info()"
   ]
  },
  {
   "cell_type": "code",
   "execution_count": 264,
   "metadata": {},
   "outputs": [],
   "source": [
    "# save ke csv\n",
    "titanic_train.to_csv('titanic_train.csv', index=False)\n",
    "titanic_test.to_csv('titanic_test.csv', index=False)"
   ]
  },
  {
   "cell_type": "code",
   "execution_count": 265,
   "metadata": {},
   "outputs": [
    {
     "output_type": "execute_result",
     "data": {
      "text/plain": [
       "        sex   age  parch     fare   class  embark_town  alone  label\n",
       "0      male  54.0      0  14.0000  Second  Southampton   True      0\n",
       "1      male  22.0      0   9.0000   Third  Southampton   True      0\n",
       "2      male  29.0      0   7.7500   Third   Queenstown   True      1\n",
       "3      male   NaN      0  30.5000   First  Southampton   True      1\n",
       "4      male  40.0      1  15.5000   Third   Queenstown  False      0\n",
       "..      ...   ...    ...      ...     ...          ...    ...    ...\n",
       "707    male  36.0      0  26.3875   First  Southampton   True      1\n",
       "708    male   NaN      0  26.0000   First  Southampton   True      0\n",
       "709    male  38.0      0  90.0000   First  Southampton  False      1\n",
       "710    male  51.0      0   7.7500   Third  Southampton   True      0\n",
       "711  female   NaN      2  69.5500   Third  Southampton  False      0\n",
       "\n",
       "[712 rows x 8 columns]"
      ],
      "text/html": "<div>\n<style scoped>\n    .dataframe tbody tr th:only-of-type {\n        vertical-align: middle;\n    }\n\n    .dataframe tbody tr th {\n        vertical-align: top;\n    }\n\n    .dataframe thead th {\n        text-align: right;\n    }\n</style>\n<table border=\"1\" class=\"dataframe\">\n  <thead>\n    <tr style=\"text-align: right;\">\n      <th></th>\n      <th>sex</th>\n      <th>age</th>\n      <th>parch</th>\n      <th>fare</th>\n      <th>class</th>\n      <th>embark_town</th>\n      <th>alone</th>\n      <th>label</th>\n    </tr>\n  </thead>\n  <tbody>\n    <tr>\n      <th>0</th>\n      <td>male</td>\n      <td>54.0</td>\n      <td>0</td>\n      <td>14.0000</td>\n      <td>Second</td>\n      <td>Southampton</td>\n      <td>True</td>\n      <td>0</td>\n    </tr>\n    <tr>\n      <th>1</th>\n      <td>male</td>\n      <td>22.0</td>\n      <td>0</td>\n      <td>9.0000</td>\n      <td>Third</td>\n      <td>Southampton</td>\n      <td>True</td>\n      <td>0</td>\n    </tr>\n    <tr>\n      <th>2</th>\n      <td>male</td>\n      <td>29.0</td>\n      <td>0</td>\n      <td>7.7500</td>\n      <td>Third</td>\n      <td>Queenstown</td>\n      <td>True</td>\n      <td>1</td>\n    </tr>\n    <tr>\n      <th>3</th>\n      <td>male</td>\n      <td>NaN</td>\n      <td>0</td>\n      <td>30.5000</td>\n      <td>First</td>\n      <td>Southampton</td>\n      <td>True</td>\n      <td>1</td>\n    </tr>\n    <tr>\n      <th>4</th>\n      <td>male</td>\n      <td>40.0</td>\n      <td>1</td>\n      <td>15.5000</td>\n      <td>Third</td>\n      <td>Queenstown</td>\n      <td>False</td>\n      <td>0</td>\n    </tr>\n    <tr>\n      <th>...</th>\n      <td>...</td>\n      <td>...</td>\n      <td>...</td>\n      <td>...</td>\n      <td>...</td>\n      <td>...</td>\n      <td>...</td>\n      <td>...</td>\n    </tr>\n    <tr>\n      <th>707</th>\n      <td>male</td>\n      <td>36.0</td>\n      <td>0</td>\n      <td>26.3875</td>\n      <td>First</td>\n      <td>Southampton</td>\n      <td>True</td>\n      <td>1</td>\n    </tr>\n    <tr>\n      <th>708</th>\n      <td>male</td>\n      <td>NaN</td>\n      <td>0</td>\n      <td>26.0000</td>\n      <td>First</td>\n      <td>Southampton</td>\n      <td>True</td>\n      <td>0</td>\n    </tr>\n    <tr>\n      <th>709</th>\n      <td>male</td>\n      <td>38.0</td>\n      <td>0</td>\n      <td>90.0000</td>\n      <td>First</td>\n      <td>Southampton</td>\n      <td>False</td>\n      <td>1</td>\n    </tr>\n    <tr>\n      <th>710</th>\n      <td>male</td>\n      <td>51.0</td>\n      <td>0</td>\n      <td>7.7500</td>\n      <td>Third</td>\n      <td>Southampton</td>\n      <td>True</td>\n      <td>0</td>\n    </tr>\n    <tr>\n      <th>711</th>\n      <td>female</td>\n      <td>NaN</td>\n      <td>2</td>\n      <td>69.5500</td>\n      <td>Third</td>\n      <td>Southampton</td>\n      <td>False</td>\n      <td>0</td>\n    </tr>\n  </tbody>\n</table>\n<p>712 rows × 8 columns</p>\n</div>"
     },
     "metadata": {},
     "execution_count": 265
    }
   ],
   "source": [
    "titanic_train = pd.read_csv('titanic_train.csv')\n",
    "\n",
    "# ubah  data type alone jadi string\n",
    "titanic_train['alone'] = titanic_train['alone'].astype(str)\n",
    "\n",
    "titanic_train"
   ]
  },
  {
   "cell_type": "code",
   "execution_count": 266,
   "metadata": {},
   "outputs": [
    {
     "output_type": "execute_result",
     "data": {
      "text/plain": [
       "        sex   age  parch     fare   class  embark_town  alone  label\n",
       "0      male   NaN      0   7.7500   Third   Queenstown   True      0\n",
       "1      male  33.0      0   7.8958   Third    Cherbourg   True      0\n",
       "2      male  27.0      0  26.0000  Second  Southampton   True      0\n",
       "3      male  60.0      1  79.2000   First    Cherbourg  False      1\n",
       "4    female  26.0      0   7.9250   Third  Southampton   True      1\n",
       "..      ...   ...    ...      ...     ...          ...    ...    ...\n",
       "174    male  43.0      0   6.4500   Third  Southampton   True      0\n",
       "175  female  20.0      0   9.8250   Third  Southampton  False      0\n",
       "176    male  36.0      0  15.5500   Third  Southampton  False      0\n",
       "177  female   2.0      2  27.9000   Third  Southampton  False      0\n",
       "178    male  32.0      0  15.8500   Third  Southampton  False      0\n",
       "\n",
       "[179 rows x 8 columns]"
      ],
      "text/html": "<div>\n<style scoped>\n    .dataframe tbody tr th:only-of-type {\n        vertical-align: middle;\n    }\n\n    .dataframe tbody tr th {\n        vertical-align: top;\n    }\n\n    .dataframe thead th {\n        text-align: right;\n    }\n</style>\n<table border=\"1\" class=\"dataframe\">\n  <thead>\n    <tr style=\"text-align: right;\">\n      <th></th>\n      <th>sex</th>\n      <th>age</th>\n      <th>parch</th>\n      <th>fare</th>\n      <th>class</th>\n      <th>embark_town</th>\n      <th>alone</th>\n      <th>label</th>\n    </tr>\n  </thead>\n  <tbody>\n    <tr>\n      <th>0</th>\n      <td>male</td>\n      <td>NaN</td>\n      <td>0</td>\n      <td>7.7500</td>\n      <td>Third</td>\n      <td>Queenstown</td>\n      <td>True</td>\n      <td>0</td>\n    </tr>\n    <tr>\n      <th>1</th>\n      <td>male</td>\n      <td>33.0</td>\n      <td>0</td>\n      <td>7.8958</td>\n      <td>Third</td>\n      <td>Cherbourg</td>\n      <td>True</td>\n      <td>0</td>\n    </tr>\n    <tr>\n      <th>2</th>\n      <td>male</td>\n      <td>27.0</td>\n      <td>0</td>\n      <td>26.0000</td>\n      <td>Second</td>\n      <td>Southampton</td>\n      <td>True</td>\n      <td>0</td>\n    </tr>\n    <tr>\n      <th>3</th>\n      <td>male</td>\n      <td>60.0</td>\n      <td>1</td>\n      <td>79.2000</td>\n      <td>First</td>\n      <td>Cherbourg</td>\n      <td>False</td>\n      <td>1</td>\n    </tr>\n    <tr>\n      <th>4</th>\n      <td>female</td>\n      <td>26.0</td>\n      <td>0</td>\n      <td>7.9250</td>\n      <td>Third</td>\n      <td>Southampton</td>\n      <td>True</td>\n      <td>1</td>\n    </tr>\n    <tr>\n      <th>...</th>\n      <td>...</td>\n      <td>...</td>\n      <td>...</td>\n      <td>...</td>\n      <td>...</td>\n      <td>...</td>\n      <td>...</td>\n      <td>...</td>\n    </tr>\n    <tr>\n      <th>174</th>\n      <td>male</td>\n      <td>43.0</td>\n      <td>0</td>\n      <td>6.4500</td>\n      <td>Third</td>\n      <td>Southampton</td>\n      <td>True</td>\n      <td>0</td>\n    </tr>\n    <tr>\n      <th>175</th>\n      <td>female</td>\n      <td>20.0</td>\n      <td>0</td>\n      <td>9.8250</td>\n      <td>Third</td>\n      <td>Southampton</td>\n      <td>False</td>\n      <td>0</td>\n    </tr>\n    <tr>\n      <th>176</th>\n      <td>male</td>\n      <td>36.0</td>\n      <td>0</td>\n      <td>15.5500</td>\n      <td>Third</td>\n      <td>Southampton</td>\n      <td>False</td>\n      <td>0</td>\n    </tr>\n    <tr>\n      <th>177</th>\n      <td>female</td>\n      <td>2.0</td>\n      <td>2</td>\n      <td>27.9000</td>\n      <td>Third</td>\n      <td>Southampton</td>\n      <td>False</td>\n      <td>0</td>\n    </tr>\n    <tr>\n      <th>178</th>\n      <td>male</td>\n      <td>32.0</td>\n      <td>0</td>\n      <td>15.8500</td>\n      <td>Third</td>\n      <td>Southampton</td>\n      <td>False</td>\n      <td>0</td>\n    </tr>\n  </tbody>\n</table>\n<p>179 rows × 8 columns</p>\n</div>"
     },
     "metadata": {},
     "execution_count": 266
    }
   ],
   "source": [
    "titanic_test = pd.read_csv('titanic_test.csv')\n",
    "\n",
    "# ubah  data type alone jadi string\n",
    "titanic_test['alone'] = titanic_test['alone'].astype(str)\n",
    "\n",
    "titanic_test"
   ]
  },
  {
   "cell_type": "code",
   "execution_count": 267,
   "metadata": {},
   "outputs": [
    {
     "output_type": "stream",
     "name": "stdout",
     "text": [
      "<class 'pandas.core.frame.DataFrame'>\nRangeIndex: 712 entries, 0 to 711\nData columns (total 8 columns):\n #   Column       Non-Null Count  Dtype  \n---  ------       --------------  -----  \n 0   sex          712 non-null    object \n 1   age          569 non-null    float64\n 2   parch        712 non-null    int64  \n 3   fare         712 non-null    float64\n 4   class        712 non-null    object \n 5   embark_town  710 non-null    object \n 6   alone        712 non-null    object \n 7   label        712 non-null    int64  \ndtypes: float64(2), int64(2), object(4)\nmemory usage: 44.6+ KB\n"
     ]
    }
   ],
   "source": [
    "titanic_train.info()"
   ]
  },
  {
   "cell_type": "code",
   "execution_count": 268,
   "metadata": {},
   "outputs": [
    {
     "output_type": "stream",
     "name": "stdout",
     "text": [
      "<class 'pandas.core.frame.DataFrame'>\nRangeIndex: 179 entries, 0 to 178\nData columns (total 8 columns):\n #   Column       Non-Null Count  Dtype  \n---  ------       --------------  -----  \n 0   sex          179 non-null    object \n 1   age          145 non-null    float64\n 2   parch        179 non-null    int64  \n 3   fare         179 non-null    float64\n 4   class        179 non-null    object \n 5   embark_town  179 non-null    object \n 6   alone        179 non-null    object \n 7   label        179 non-null    int64  \ndtypes: float64(2), int64(2), object(4)\nmemory usage: 11.3+ KB\n"
     ]
    }
   ],
   "source": [
    "titanic_test.info()"
   ]
  },
  {
   "source": [
    "# 2. Model Training"
   ],
   "cell_type": "markdown",
   "metadata": {}
  },
  {
   "cell_type": "code",
   "execution_count": null,
   "metadata": {},
   "outputs": [],
   "source": []
  },
  {
   "cell_type": "code",
   "execution_count": 269,
   "metadata": {},
   "outputs": [
    {
     "output_type": "execute_result",
     "data": {
      "text/plain": [
       "GridSearchCV(cv=StratifiedKFold(n_splits=5, random_state=None, shuffle=False),\n",
       "             estimator=Pipeline(steps=[('prepocess',\n",
       "                                        ColumnTransformer(remainder='passthrough',\n",
       "                                                          transformers=[('imputer',\n",
       "                                                                         SimpleImputer(strategy='median'),\n",
       "                                                                         ['age']),\n",
       "                                                                        ('one '\n",
       "                                                                         'hot '\n",
       "                                                                         'encoder',\n",
       "                                                                         OneHotEncoder(drop='first'),\n",
       "                                                                         ['sex',\n",
       "                                                                          'alone']),\n",
       "                                                                        ('ordinal '\n",
       "                                                                         'encoder',\n",
       "                                                                         OrdinalEncoder(cols=['class'],\n",
       "                                                                                        mapping=[{...\n",
       "                                                                                                              'Second': 2,\n",
       "                                                                                                              'Third': 3}}]),\n",
       "                                                                         ['class']),\n",
       "                                                                        ('binary '\n",
       "                                                                         'encoder',\n",
       "                                                                         Pipeline(steps=[('imputer',\n",
       "                                                                                          SimpleImputer(strategy='most_frequent')),\n",
       "                                                                                         ('binary '\n",
       "                                                                                          'encoder',\n",
       "                                                                                          BinaryEncoder())]),\n",
       "                                                                         ['embark_town'])])),\n",
       "                                       ('clf',\n",
       "                                        LogisticRegression(random_state=2020,\n",
       "                                                           solver='liblinear'))]),\n",
       "             n_jobs=-1,\n",
       "             param_grid={'clf__C': [100, 10, 1, 0.1, 0.01, 0.001],\n",
       "                         'clf__solver': ['liblinear', 'newton-cg']},\n",
       "             scoring='f1')"
      ]
     },
     "metadata": {},
     "execution_count": 269
    }
   ],
   "source": [
    "# 1. DATA\n",
    "# titanic_train = pd.read_csv('titanic_train.csv')\n",
    "\n",
    "# 2. PREPROCESS\n",
    "# pipeline berisi imputing lalu binary encoding untuk 'embark_town' nanti\n",
    "binary_encoder_pipeline = Pipeline([\n",
    "    ('imputer', SimpleImputer(strategy='most_frequent')),\n",
    "    ('binary encoder', ce.BinaryEncoder())\n",
    "])\n",
    "\n",
    "# ordinal mapping untuk 'class' nanti\n",
    "ordinal_mapping = [\n",
    "    {'col':'class',\n",
    "    'mapping':{None:0, 'First':1, 'Second':2, 'Third':3}}\n",
    "]\n",
    "\n",
    "ordinal_encoder = ce.OrdinalEncoder(cols=['class'], mapping=ordinal_mapping)\n",
    "\n",
    "# transformer \n",
    "transformer = ColumnTransformer([\n",
    "    ('imputer', SimpleImputer(strategy='median'), ['age']),\n",
    "    ('one hot encoder', OneHotEncoder(drop='first'), ['sex','alone']),\n",
    "    ('ordinal encoder', ordinal_encoder, ['class']),\n",
    "    ('binary encoder', binary_encoder_pipeline, ['embark_town'])\n",
    "], remainder='passthrough')\n",
    "\n",
    "# 3. DATA SPLITTING\n",
    "X = titanic_train.drop(columns='label')\n",
    "y = titanic_train['label']\n",
    "\n",
    "# 4. MODEL SELECTION\n",
    "model = LogisticRegression(solver='liblinear', random_state=2020)\n",
    "\n",
    "estimator = Pipeline([\n",
    "    ('prepocess', transformer),\n",
    "    ('clf', model)\n",
    "])\n",
    "\n",
    "hyperparam_space = {\n",
    "    'clf__C':[100, 10, 1, 0.1, 0.01, 0.001],\n",
    "    'clf__solver':['liblinear','newton-cg']\n",
    "}\n",
    "\n",
    "skfold = StratifiedKFold(n_splits=5)\n",
    "\n",
    "grid_search = GridSearchCV(\n",
    "    estimator, \n",
    "    param_grid = hyperparam_space,\n",
    "    cv = skfold,\n",
    "    scoring = 'f1',\n",
    "    n_jobs = -1\n",
    ")\n",
    "\n",
    "grid_search.fit(X,y)"
   ]
  },
  {
   "cell_type": "code",
   "execution_count": null,
   "metadata": {},
   "outputs": [],
   "source": []
  },
  {
   "source": [
    "# 3. Prediction "
   ],
   "cell_type": "markdown",
   "metadata": {}
  },
  {
   "source": [
    "## a. Pickle"
   ],
   "cell_type": "markdown",
   "metadata": {}
  },
  {
   "cell_type": "code",
   "execution_count": 270,
   "metadata": {},
   "outputs": [],
   "source": [
    "# # model pickle\n",
    "grid_search.best_estimator_.fit(X,y) # final model\n",
    "\n",
    "# # saving model\n",
    "filename = 'Titanic_Final5.sav'\n",
    "pickle.dump(grid_search.best_estimator_,open(filename,'wb'))"
   ]
  },
  {
   "cell_type": "code",
   "execution_count": 271,
   "metadata": {},
   "outputs": [],
   "source": [
    "# # Load Dataset untuk test\n",
    "# titanic_test = pd.read_csv('titanic_test.csv')\n",
    "\n",
    "# # Load Model Pickle\n",
    "filename = 'Titanic_Final5.sav'\n",
    "loaded_model = pickle.load(open(filename,'rb'))"
   ]
  },
  {
   "cell_type": "code",
   "execution_count": 272,
   "metadata": {},
   "outputs": [
    {
     "output_type": "execute_result",
     "data": {
      "text/plain": [
       "array([0, 0, 0, 0, 1, 0, 0, 0, 0, 0, 0, 0, 1, 0, 0, 0, 0, 0, 1, 0, 1, 0,\n",
       "       0, 0, 0, 1, 0, 0, 1, 0, 0, 0, 0, 0, 0, 1, 1, 0, 1, 0, 0, 0, 0, 0,\n",
       "       1, 0, 1, 0, 1, 0, 0, 0, 0, 1, 1, 0, 1, 1, 0, 0, 1, 1, 1, 0, 1, 1,\n",
       "       0, 1, 0, 0, 1, 0, 0, 0, 1, 0, 1, 0, 0, 1, 0, 1, 0, 1, 1, 1, 0, 1,\n",
       "       1, 0, 0, 0, 0, 0, 0, 0, 1, 0, 0, 1, 1, 0, 0, 0, 1, 0, 1, 0, 1, 1,\n",
       "       0, 1, 0, 1, 1, 0, 1, 1, 0, 0, 1, 0, 1, 0, 0, 1, 0, 0, 1, 1, 0, 0,\n",
       "       1, 0, 1, 1, 1, 0, 0, 1, 1, 1, 0, 1, 1, 0, 1, 0, 0, 0, 0, 0, 0, 1,\n",
       "       0, 0, 0, 0, 0, 1, 0, 1, 1, 1, 0, 0, 0, 1, 0, 0, 0, 1, 0, 0, 0, 1,\n",
       "       0, 1, 0], dtype=int64)"
      ]
     },
     "metadata": {},
     "execution_count": 272
    }
   ],
   "source": [
    "# Predict Dataset Test\n",
    "loaded_model.predict(titanic_test.drop(columns='label'))"
   ]
  },
  {
   "cell_type": "code",
   "execution_count": 273,
   "metadata": {},
   "outputs": [
    {
     "output_type": "execute_result",
     "data": {
      "text/plain": [
       "0.7153284671532847"
      ]
     },
     "metadata": {},
     "execution_count": 273
    }
   ],
   "source": [
    "y_pred = loaded_model.predict(titanic_test.drop(columns='label'))\n",
    "f1_score(titanic_test['label'], y_pred)"
   ]
  },
  {
   "cell_type": "code",
   "execution_count": 274,
   "metadata": {},
   "outputs": [
    {
     "output_type": "execute_result",
     "data": {
      "text/plain": [
       "    sex   age  parch   fare   class  embark_town alone  label\n",
       "0  male  54.0      0  14.00  Second  Southampton  True      0\n",
       "1  male  22.0      0   9.00   Third  Southampton  True      0\n",
       "2  male  29.0      0   7.75   Third   Queenstown  True      1"
      ],
      "text/html": "<div>\n<style scoped>\n    .dataframe tbody tr th:only-of-type {\n        vertical-align: middle;\n    }\n\n    .dataframe tbody tr th {\n        vertical-align: top;\n    }\n\n    .dataframe thead th {\n        text-align: right;\n    }\n</style>\n<table border=\"1\" class=\"dataframe\">\n  <thead>\n    <tr style=\"text-align: right;\">\n      <th></th>\n      <th>sex</th>\n      <th>age</th>\n      <th>parch</th>\n      <th>fare</th>\n      <th>class</th>\n      <th>embark_town</th>\n      <th>alone</th>\n      <th>label</th>\n    </tr>\n  </thead>\n  <tbody>\n    <tr>\n      <th>0</th>\n      <td>male</td>\n      <td>54.0</td>\n      <td>0</td>\n      <td>14.00</td>\n      <td>Second</td>\n      <td>Southampton</td>\n      <td>True</td>\n      <td>0</td>\n    </tr>\n    <tr>\n      <th>1</th>\n      <td>male</td>\n      <td>22.0</td>\n      <td>0</td>\n      <td>9.00</td>\n      <td>Third</td>\n      <td>Southampton</td>\n      <td>True</td>\n      <td>0</td>\n    </tr>\n    <tr>\n      <th>2</th>\n      <td>male</td>\n      <td>29.0</td>\n      <td>0</td>\n      <td>7.75</td>\n      <td>Third</td>\n      <td>Queenstown</td>\n      <td>True</td>\n      <td>1</td>\n    </tr>\n  </tbody>\n</table>\n</div>"
     },
     "metadata": {},
     "execution_count": 274
    }
   ],
   "source": [
    "titanic_train.head(3)"
   ]
  },
  {
   "cell_type": "code",
   "execution_count": 275,
   "metadata": {},
   "outputs": [
    {
     "output_type": "execute_result",
     "data": {
      "text/plain": [
       "array(['Southampton', 'Queenstown', 'Cherbourg', nan], dtype=object)"
      ]
     },
     "metadata": {},
     "execution_count": 275
    }
   ],
   "source": [
    "titanic_train['embark_town'].unique()"
   ]
  },
  {
   "cell_type": "code",
   "execution_count": 276,
   "metadata": {},
   "outputs": [
    {
     "output_type": "stream",
     "name": "stdout",
     "text": [
      "predict class:  [1]\npredict proba:  [[0.33349238 0.66650762]]\n"
     ]
    }
   ],
   "source": [
    "# coba kita tes pakai data observasi baru\n",
    "\n",
    "df_observ = pd.DataFrame({\n",
    "    'sex':['male'],\n",
    "    'age':[25],\n",
    "    'parch':[0],\n",
    "    'fare':[500],\n",
    "    'class':['First'],\n",
    "    'embark_town':['Southampton'],\n",
    "    'alone':['True']\n",
    "})\n",
    "\n",
    "print('predict class: ', loaded_model.predict(df_observ))\n",
    "print('predict proba: ', loaded_model.predict_proba(df_observ))\n"
   ]
  },
  {
   "cell_type": "code",
   "execution_count": null,
   "metadata": {},
   "outputs": [],
   "source": []
  },
  {
   "source": [
    "## b. Joblib"
   ],
   "cell_type": "markdown",
   "metadata": {}
  },
  {
   "cell_type": "code",
   "execution_count": 277,
   "metadata": {},
   "outputs": [],
   "source": [
    "# saving model\n",
    "# joblib.dump(grid_search.best_estimator_,'model_joblib')"
   ]
  },
  {
   "cell_type": "code",
   "execution_count": 278,
   "metadata": {},
   "outputs": [],
   "source": [
    "# load model\n",
    "# model_joblib = joblib.load('model_joblib')"
   ]
  },
  {
   "cell_type": "code",
   "execution_count": 279,
   "metadata": {},
   "outputs": [],
   "source": [
    "# predict ke data observasi\n",
    "# print('predict class', model_joblib.predict(df_observ))\n",
    "# print('predict proba', model_joblib.predict_proba(df_observ))"
   ]
  },
  {
   "cell_type": "code",
   "execution_count": null,
   "metadata": {},
   "outputs": [],
   "source": []
  },
  {
   "cell_type": "code",
   "execution_count": null,
   "metadata": {},
   "outputs": [],
   "source": []
  },
  {
   "cell_type": "code",
   "execution_count": null,
   "metadata": {},
   "outputs": [],
   "source": []
  },
  {
   "cell_type": "code",
   "execution_count": null,
   "metadata": {},
   "outputs": [],
   "source": []
  },
  {
   "cell_type": "code",
   "execution_count": null,
   "metadata": {},
   "outputs": [],
   "source": []
  },
  {
   "cell_type": "code",
   "execution_count": null,
   "metadata": {},
   "outputs": [],
   "source": []
  },
  {
   "cell_type": "code",
   "execution_count": null,
   "metadata": {},
   "outputs": [],
   "source": []
  },
  {
   "cell_type": "code",
   "execution_count": null,
   "metadata": {},
   "outputs": [],
   "source": []
  },
  {
   "cell_type": "code",
   "execution_count": null,
   "metadata": {},
   "outputs": [],
   "source": []
  },
  {
   "cell_type": "code",
   "execution_count": null,
   "metadata": {},
   "outputs": [],
   "source": []
  }
 ]
}